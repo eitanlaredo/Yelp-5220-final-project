{
 "cells": [
  {
   "cell_type": "code",
   "execution_count": 2,
   "metadata": {},
   "outputs": [
    {
     "name": "stderr",
     "output_type": "stream",
     "text": [
      "[nltk_data] Downloading package vader_lexicon to\n",
      "[nltk_data]     /Users/eitan/nltk_data...\n",
      "[nltk_data]   Package vader_lexicon is already up-to-date!\n"
     ]
    }
   ],
   "source": [
    "'''\n",
    "Testing the theorized approach if using sentiment analysis to force sentneces into 3 categories \n",
    "then uselogisitc regression to decidebetween 1 vs 2 stars and then 4 vs 5 stars\n",
    "'''\n",
    "\n",
    "from imports import *\n",
    "from data_loader import *\n",
    "\n",
    "stemmed = 'star_reviews.db'\n",
    "unstemmed = 'star_reviews_unstemmed.db'"
   ]
  },
  {
   "cell_type": "code",
   "execution_count": 3,
   "metadata": {},
   "outputs": [],
   "source": [
    "# Comparison of mapping traditional Sentiment analysis polarity of (1-3) vs (1-5)\n",
    "\n",
    "def map_polarity_3(polarity_score):\n",
    "    if polarity_score > 0.3333:\n",
    "        return 3\n",
    "    elif polarity_score > -0.3333:\n",
    "        return 2\n",
    "    else:\n",
    "        return 1\n",
    "    \n",
    "def map_polarity_5(polarity_score):\n",
    "    '''\n",
    "    Given a polarity score, return value from 1 to 5 inclusive.\n",
    "    Input: (Float) polarity score provided by sentiment analysis dictionary\n",
    "    Output: (Int) Polarity score, remapped on a scale of 1 to 5\n",
    "    '''\n",
    "    if polarity_score > 0.6:\n",
    "        return 5  # Strongly positive sentiment\n",
    "    elif polarity_score > 0.2:\n",
    "        return 4  # Positive sentiment\n",
    "    elif polarity_score > -0.2:\n",
    "        return 3  # Neutral sentiment\n",
    "    elif polarity_score > -0.6:\n",
    "        return 2  # Negative sentiment\n",
    "    else:\n",
    "        return 1  # Strongly negative sentiment"
   ]
  },
  {
   "cell_type": "code",
   "execution_count": 4,
   "metadata": {},
   "outputs": [],
   "source": [
    "# Retrieve data (unvectorized) \n",
    "\n",
    "# NOTE: Current query limit of data set\n",
    "X, Y = sql_query_raw(db_file=stemmed, query_limit= 100000)\n",
    "trainX, testX, trainY, testY = train_test_split(X, Y, test_size=0.2, random_state=42)\n",
    "stemmed_data = (trainX, testX, trainY, testY)\n",
    "\n",
    "X, Y = sql_query_raw(db_file= unstemmed, query_limit= 100000)\n",
    "trainX, testX, trainY, testY = train_test_split(X, Y, test_size=0.2, random_state=42)\n",
    "unstemmed_data = (trainX, testX, trainY, testY)\n"
   ]
  },
  {
   "cell_type": "code",
   "execution_count": null,
   "metadata": {},
   "outputs": [],
   "source": [
    "def VADER(packed_data):\n",
    "    '''\n",
    "    Runs polarity score calculator on yelp reviews\n",
    "    I: Tuple of training/test split for Vader SA\n",
    "    O: Accuracy scores of VADER\n",
    "    '''\n",
    "    trainX, testX, trainY, testY = packed_data\n",
    "\n",
    "    # Function to calculate sentiment using TextBlob\n",
    "    def analyze_sentiment(text):\n",
    "        # Initialize the SentimentIntensityAnalyzer\n",
    "        sid_obj = SIA()\n",
    "        VADER_dict = sid_obj.polarity_scores(text)  # Polarity score between -1 (negative) and +1 (positive)\n",
    "        polarity = VADER_dict['compound']\n",
    "        # Classify the sentiment on a scale of 1 to 5\n",
    "        remapped_polarity = map_polarity_5(polarity_score=polarity)\n",
    "        \n",
    "        return remapped_polarity\n",
    "    \n",
    "    # Retrieve training predictions\n",
    "    train_pred = [analyze_sentiment(text) for text in trainX]\n",
    "    test_pred = [analyze_sentiment(text) for text in testX]\n",
    "    \n",
    "    # Return accuracy of the sentiment classification\n",
    "    train_accuracy = accuracy_score(trainY, train_pred)\n",
    "    test_accuracy = accuracy_score(testY, test_pred)\n",
    "    \n",
    "    print(f'Training accuracy: {train_accuracy * 100:.2f}%')\n",
    "    print(f'Testing accuracy: {test_accuracy * 100:.2f}%')\n",
    "    return [train_accuracy, test_accuracy]\n",
    "\n",
    "def textblob(packed_data):\n",
    "    '''\n",
    "    Runs polarity score calculator on yelp reviews\n",
    "    I: Tuple of training/test split for Textblob SA\n",
    "    O: Accuracy scores of textblob\n",
    "    '''\n",
    "    trainX, testX, trainY, testY = packed_data\n",
    "\n",
    "    # Function to calculate sentiment using TextBlob\n",
    "    def analyze_sentiment(text):\n",
    "        blob = TextBlob(text)\n",
    "        polarity = blob.sentiment.polarity  # Polarity score between -1 (negative) and +1 (positive)\n",
    "        \n",
    "        # Classify the sentiment on a scale of 1 to 5\n",
    "        remapped_polarity = map_polarity_5(polarity_score=polarity)\n",
    "        \n",
    "        return remapped_polarity\n",
    "    \n",
    "    # Retrieve training predictions\n",
    "    train_pred = [analyze_sentiment(text) for text in trainX]\n",
    "    test_pred = [analyze_sentiment(text) for text in testX]\n",
    "    \n",
    "    # Return accuracy of the sentiment classification\n",
    "    train_accuracy = accuracy_score(trainY, train_pred)\n",
    "    test_accuracy = accuracy_score(testY, test_pred)\n",
    "    \n",
    "    print(f'Training accuracy: {train_accuracy * 100:.2f}%')\n",
    "    print(f'Testing accuracy: {test_accuracy * 100:.2f}%')\n",
    "\n",
    "    return [train_accuracy, test_accuracy]\n"
   ]
  },
  {
   "cell_type": "code",
   "execution_count": 6,
   "metadata": {},
   "outputs": [
    {
     "name": "stdout",
     "output_type": "stream",
     "text": [
      "Training accuracy: 45.55%\n",
      "Testing accuracy: 44.81%\n",
      "Training accuracy: 47.23%\n",
      "Testing accuracy: 46.99%\n",
      "Training accuracy: 28.91%\n",
      "Testing accuracy: 28.52%\n",
      "Training accuracy: 28.80%\n",
      "Testing accuracy: 28.85%\n"
     ]
    }
   ],
   "source": [
    "# Get accuracies for each\n",
    "\n",
    "# Stemmed, vader:\n",
    "vader_stem = VADER(stemmed_data)\n",
    "\n",
    "vader_unstem = VADER(unstemmed_data)\n",
    "\n",
    "tb_stem = textblob(stemmed_data)\n",
    "\n",
    "tb_unstem = textblob(unstemmed_data)"
   ]
  },
  {
   "cell_type": "markdown",
   "metadata": {},
   "source": [
    "Veder stemmed: \n",
    "Training accuracy: 45.55%\n",
    "Testing accuracy: 44.81%\n",
    "\n",
    "Vader unstemmed: \n",
    "Training accuracy: 47.23%\n",
    "Testing accuracy: 46.99%\n",
    "\n",
    "Textblob stemmed: \n",
    "Training accuracy: 28.91%\n",
    "Testing accuracy: 28.52%\n",
    "\n",
    "Textblob unstemmed:\n",
    "Training accuracy: 28.80%\n",
    "Testing accuracy: 28.85%"
   ]
  }
 ],
 "metadata": {
  "kernelspec": {
   "display_name": "Python 3",
   "language": "python",
   "name": "python3"
  },
  "language_info": {
   "codemirror_mode": {
    "name": "ipython",
    "version": 3
   },
   "file_extension": ".py",
   "mimetype": "text/x-python",
   "name": "python",
   "nbconvert_exporter": "python",
   "pygments_lexer": "ipython3",
   "version": "3.11.1"
  },
  "orig_nbformat": 4
 },
 "nbformat": 4,
 "nbformat_minor": 2
}

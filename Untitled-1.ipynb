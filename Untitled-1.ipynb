{
 "cells": [
  {
   "cell_type": "code",
   "execution_count": null,
   "metadata": {},
   "outputs": [
    {
     "name": "stderr",
     "output_type": "stream",
     "text": [
      "c:\\Users\\aidhe\\AppData\\Local\\Programs\\Python\\Python311\\Lib\\site-packages\\sklearn\\base.py:432: UserWarning: X has feature names, but Ridge was fitted without feature names\n",
      "  warnings.warn(\n"
     ]
    },
    {
     "name": "stdout",
     "output_type": "stream",
     "text": [
      "1.7464698844936302\n",
      "0.019239227910001655\n",
      "1.81347151\n"
     ]
    }
   ],
   "source": [
    "import sqlite3\n",
    "from sklearn.feature_extraction.text import TfidfVectorizer\n",
    "import pandas as pd\n",
    "from sklearn.model_selection import train_test_split\n",
    "from sklearn.linear_model import LogisticRegression,Ridge, RidgeCV\n",
    "from sklearn.preprocessing import StandardScaler\n",
    "from sklearn.metrics import mean_squared_error, r2_score\n",
    "import numpy as np\n",
    "\n",
    "\n",
    "conn = sqlite3.connect('star_reviews.db')\n",
    "cursor = conn.cursor()\n",
    "cursor.execute(\"SELECT * from data Limit 10000\")\n",
    "vectorize = TfidfVectorizer(stop_words='english', max_features= 10000)\n",
    "reviews = []\n",
    "tables = cursor.fetchall()\n",
    "for row in tables:\n",
    "    reviews.append(row[1])\n",
    "stars = []\n",
    "for rows in tables:\n",
    "    stars.append(rows[0])\n",
    "\n",
    "vector = vectorize.fit_transform(reviews)\n",
    "review_df = pd.DataFrame.sparse.from_spmatrix(vector, columns=vectorize.get_feature_names_out())\n",
    "review_df['starRating'] = stars\n",
    "storage = []\n",
    "for values in review_df['starRating']:\n",
    "    if values >= 4:\n",
    "        storage.append('Good')\n",
    "    elif values <= 2:\n",
    "        storage.append('Bad')\n",
    "    else:\n",
    "        storage.append('Neutral')\n",
    "newCol = pd.DataFrame(storage)\n",
    "review_df['Condition'] = newCol\n",
    "Y = review_df[['starRating']]\n",
    "X = review_df.drop(['starRating', 'Condition'], axis=1)\n",
    "\n",
    "lambdas = 10**np.linspace(4, -6, 101)\n",
    "\n",
    "trainX, testX, trainY, testY = train_test_split(X,Y,test_size=0.2)\n",
    "\n",
    "scaling = StandardScaler(with_mean=False)\n",
    "trainScaled = scaling.fit_transform(trainX)\n",
    "testScaled = scaling.transform(testX)\n",
    "modelLog = RidgeCV(alphas=lambdas, store_cv_values=True)\n",
    "modelLog.fit(trainScaled,trainY)\n",
    "bestAlpha = modelLog.alpha_\n",
    "\n",
    "modelLog2 = Ridge(alpha=bestAlpha)\n",
    "modelLog2.fit(trainScaled,trainY)\n",
    "predictionsMade2 = modelLog2.predict(testX)\n",
    "MSEscore = mean_squared_error(testY,predictionsMade2)\n",
    "rScore = r2_score(testY,predictionsMade2)\n",
    "print(\"Ridge Regression MSE:\", MSEscore)\n",
    "\n",
    "#Actual value without model\n",
    "mse = np.mean((Y['starRating'] - np.mean(Y['starRating'])) ** 2)\n",
    "print(mse)\n"
   ]
  },
  {
   "cell_type": "code",
   "execution_count": 3,
   "metadata": {},
   "outputs": [
    {
     "name": "stderr",
     "output_type": "stream",
     "text": [
      "c:\\Users\\aidhe\\AppData\\Local\\Programs\\Python\\Python311\\Lib\\site-packages\\sklearn\\linear_model\\_coordinate_descent.py:1568: DataConversionWarning: A column-vector y was passed when a 1d array was expected. Please change the shape of y to (n_samples, ), for example using ravel().\n",
      "  y = column_or_1d(y, warn=True)\n"
     ]
    },
    {
     "name": "stdout",
     "output_type": "stream",
     "text": [
      "0.7827294545496286\n"
     ]
    }
   ],
   "source": [
    "from sklearn.linear_model import LassoCV,Lasso\n",
    "LassoModel = LassoCV()\n",
    "LassoModel.fit(trainX,trainY)\n",
    "bestAlpha = LassoModel.alpha_\n",
    "\n",
    "#Lasso Model with the best Alpha\n",
    "OfficialModel = Lasso(alpha=bestAlpha)\n",
    "OfficialModel.fit(trainX,trainY)\n",
    "OfficialPrediction = OfficialModel.predict(testX)\n",
    "OfficialMSE = mean_squared_error(testY,OfficialPrediction)\n",
    "print(OfficialMSE)"
   ]
  },
  {
   "cell_type": "code",
   "execution_count": 4,
   "metadata": {},
   "outputs": [
    {
     "name": "stdout",
     "output_type": "stream",
     "text": [
      "[4.38393432 2.85698167 4.61831567 ... 0.70946096 4.31102387 4.12090534]\n",
      "      starRating\n",
      "3505         5.0\n",
      "2189         4.0\n",
      "6824         5.0\n",
      "1571         5.0\n",
      "6244         5.0\n",
      "...          ...\n",
      "5774         5.0\n",
      "317          2.0\n",
      "571          1.0\n",
      "9495         5.0\n",
      "7586         5.0\n",
      "\n",
      "[2000 rows x 1 columns]\n"
     ]
    }
   ],
   "source": [
    "#Lasso Model with the best Alpha\n",
    "OfficialModel = Lasso(alpha=bestAlpha)\n",
    "OfficialModel.fit(trainX,trainY)\n",
    "OfficialPrediction = OfficialModel.predict(testX)\n",
    "OfficialMSE = mean_squared_error(testY,OfficialPrediction)\n",
    "print(OfficialPrediction)\n",
    "print(testY)"
   ]
  },
  {
   "cell_type": "code",
   "execution_count": 16,
   "metadata": {},
   "outputs": [
    {
     "name": "stderr",
     "output_type": "stream",
     "text": [
      "C:\\Users\\aidhe\\AppData\\Local\\Temp\\ipykernel_20788\\486776418.py:7: DataConversionWarning: A column-vector y was passed when a 1d array was expected. Please change the shape of y to (n_samples,), for example using ravel().\n",
      "  DecisionTree.fit(trainX,trainY)\n"
     ]
    },
    {
     "name": "stdout",
     "output_type": "stream",
     "text": [
      "0.8959415000000001\n"
     ]
    }
   ],
   "source": [
    "from sklearn.ensemble import RandomForestClassifier,RandomForestRegressor\n",
    "from sklearn.metrics import accuracy_score\n",
    "\n",
    "#Random Forest classifer\n",
    "testing = []\n",
    "DecisionTree = RandomForestRegressor()\n",
    "DecisionTree.fit(trainX,trainY)\n",
    "treePredictions = DecisionTree.predict(testX)\n",
    "MSEcalulations = mean_squared_error(testY,treePredictions)\n",
    "print(MSEcalulations)\n"
   ]
  }
 ],
 "metadata": {
  "kernelspec": {
   "display_name": "Python 3",
   "language": "python",
   "name": "python3"
  },
  "language_info": {
   "codemirror_mode": {
    "name": "ipython",
    "version": 3
   },
   "file_extension": ".py",
   "mimetype": "text/x-python",
   "name": "python",
   "nbconvert_exporter": "python",
   "pygments_lexer": "ipython3",
   "version": "3.11.1"
  }
 },
 "nbformat": 4,
 "nbformat_minor": 2
}

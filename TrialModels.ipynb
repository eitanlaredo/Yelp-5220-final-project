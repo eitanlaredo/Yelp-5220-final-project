{
 "cells": [
  {
   "cell_type": "code",
   "execution_count": null,
   "metadata": {},
   "outputs": [
    {
     "name": "stdout",
     "output_type": "stream",
     "text": [
      "The Ridge Regression Accuracy is: 68.77499999999999\n",
      "1.0\n"
     ]
    }
   ],
   "source": [
    "import sqlite3\n",
    "from sklearn.feature_extraction.text import CountVectorizer\n",
    "import pandas as pd\n",
    "from sklearn.model_selection import train_test_split\n",
    "from sklearn.linear_model import LogisticRegression,Ridge, RidgeCV,RidgeClassifier\n",
    "from sklearn.preprocessing import StandardScaler\n",
    "from sklearn.metrics import mean_squared_error, r2_score,accuracy_score\n",
    "import numpy as np\n",
    "\n",
    "#Data Prep for the Models\n",
    "lambdas = np.logspace(-3, 3, 7)\n",
    "conn = sqlite3.connect('star_reviews.db')\n",
    "cursor = conn.cursor()\n",
    "cursor.execute(\"SELECT * from data Limit 40000\")\n",
    "vectorize = CountVectorizer(stop_words='english')\n",
    "reviews = []\n",
    "tables = cursor.fetchall()\n",
    "column_names = [description[0] for description in cursor.description]\n",
    "df = pd.DataFrame(tables, columns=column_names)\n",
    "X = df['processed_text']\n",
    "Y = df['stars']\n",
    "VectorizedX = vectorize.fit_transform(X)\n",
    "trainX, testX, trainY, testY = train_test_split(VectorizedX,Y,test_size=0.2)\n",
    "\n",
    "#Ridge\n",
    "best_alpha = None\n",
    "bestAccuracyScore = 0.0\n",
    "for alpha in lambdas:\n",
    "    RidgeModelTest = RidgeClassifier(alpha = alpha)\n",
    "    RidgeModelTest.fit(trainX,trainY)\n",
    "    predictions = RidgeModelTest.predict(testX)\n",
    "    Accuracy = accuracy_score(testY,predictions)\n",
    "    if Accuracy > bestAccuracyScore:\n",
    "        bestAccuracyScore = Accuracy\n",
    "        best_alpha = alpha\n",
    "print(\"The Ridge Regression Accuracy is:\", bestAccuracyScore * 100)\n",
    "print(best_alpha)\n",
    "\n"
   ]
  },
  {
   "cell_type": "code",
   "execution_count": 14,
   "metadata": {},
   "outputs": [
    {
     "name": "stdout",
     "output_type": "stream",
     "text": [
      "Logistic Regression model accuracy is: 71.26249999999999\n"
     ]
    }
   ],
   "source": [
    "# #Lasso Model In Progress\n",
    "from sklearn.linear_model import LogisticRegression\n",
    "from sklearn.preprocessing import StandardScaler\n",
    "scaled = StandardScaler(with_mean=False)\n",
    "scaledTrain = scaled.fit_transform(trainX)\n",
    "scaledTest = scaled.transform(testX)\n",
    "\n",
    "LassoModel = LogisticRegression(penalty='l1', solver='liblinear')\n",
    "LassoModel.fit(scaledTrain,trainY)\n",
    "LassoPredictions = LassoModel.predict(scaledTest)\n",
    "LassoAccuracy = accuracy_score(testY,LassoPredictions)\n",
    "print(\"Logistic Regression model accuracy is:\", LassoAccuracy * 100)\n"
   ]
  },
  {
   "cell_type": "code",
   "execution_count": 3,
   "metadata": {},
   "outputs": [
    {
     "name": "stdout",
     "output_type": "stream",
     "text": [
      "The Accuracy of the Random Forest Classifer is: 51.787499999999994\n"
     ]
    }
   ],
   "source": [
    "from sklearn.ensemble import RandomForestClassifier\n",
    "from sklearn.metrics import accuracy_score\n",
    "\n",
    "#Random Forest classifer\n",
    "testing = []\n",
    "bestAccuracy = 0.0\n",
    "bestDepth = None\n",
    "for i in range(1,30):\n",
    "\n",
    "    RandomForest = RandomForestClassifier(max_depth = i)\n",
    "    RandomForest.fit(trainX,trainY)\n",
    "    treePredictions = RandomForest.predict(testX)\n",
    "    treePredictionsTrain = RandomForest.predict(trainX)\n",
    "    TreeScore = accuracy_score(testY,treePredictions)\n",
    "    if TreeScore > bestAccuracy:\n",
    "        bestAccuracy = TreeScore\n",
    "        bestDepth = i\n",
    "print(\"The Accuracy of the Random Forest Classifer is:\", bestAccuracy * 100)\n",
    "\n"
   ]
  },
  {
   "cell_type": "code",
   "execution_count": 4,
   "metadata": {},
   "outputs": [
    {
     "name": "stdout",
     "output_type": "stream",
     "text": [
      "The Bayes Model accuracy Score is: 63.725\n"
     ]
    }
   ],
   "source": [
    "#Bayes Model\n",
    "from sklearn.naive_bayes import MultinomialNB\n",
    "from sklearn.feature_extraction.text import CountVectorizer\n",
    "BayesModel = MultinomialNB()\n",
    "BayesModel.fit(trainX,trainY)\n",
    "BayesPrediction = BayesModel.predict(testX)\n",
    "BayesScore = accuracy_score(testY, BayesPrediction)\n",
    "print(\"The Bayes Model accuracy Score is:\", BayesScore * 100)\n",
    "# trainBayesPrediction = BayesModel.predict(trainX)\n",
    "\n",
    "\n"
   ]
  },
  {
   "cell_type": "code",
   "execution_count": 8,
   "metadata": {},
   "outputs": [
    {
     "name": "stdout",
     "output_type": "stream",
     "text": [
      "The Decision Tree Accuracy Score is 68.10000000000001\n"
     ]
    }
   ],
   "source": [
    "from sklearn.tree import DecisionTreeClassifier\n",
    "decisionTress = DecisionTreeClassifier()\n",
    "\n",
    "decisionTress.fit(trainX,trainY)\n",
    "tressPredictions = decisionTress.predict(testX)\n",
    "tressScore = accuracy_score(testY,tressPredictions)\n",
    "print(\"The Decision Tree Accuracy Score is\", tressScore * 100)\n"
   ]
  }
 ],
 "metadata": {
  "kernelspec": {
   "display_name": "Python 3",
   "language": "python",
   "name": "python3"
  },
  "language_info": {
   "codemirror_mode": {
    "name": "ipython",
    "version": 3
   },
   "file_extension": ".py",
   "mimetype": "text/x-python",
   "name": "python",
   "nbconvert_exporter": "python",
   "pygments_lexer": "ipython3",
   "version": "3.11.1"
  }
 },
 "nbformat": 4,
 "nbformat_minor": 2
}

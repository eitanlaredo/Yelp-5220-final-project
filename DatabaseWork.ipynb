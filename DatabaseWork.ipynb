{
 "cells": [
  {
   "cell_type": "code",
   "execution_count": 1,
   "metadata": {},
   "outputs": [],
   "source": [
    "import sqlite3\n",
    "import pandas as pd\n",
    "\n",
    "#Run First\n",
    "\n",
    "#reads CSV into DataFrame\n",
    "dataframe = pd.read_csv('processed_reviews.csv')\n",
    "\n",
    "dataframe.columns = dataframe.columns.str.strip()\n",
    "\n",
    "#Creates Database and stores the Reviews table\n",
    "connection = sqlite3.connect('Trial.db')\n",
    "dataframe.to_sql('Reviews', connection, if_exists= 'replace')\n",
    "\n",
    "connection.close()"
   ]
  },
  {
   "cell_type": "code",
   "execution_count": null,
   "metadata": {},
   "outputs": [
    {
     "name": "stdout",
     "output_type": "stream",
     "text": [
      "        index  review_id                                            user_id  \\\n",
      "0           0        3.0  decid eat here, awar go take two hour begin en...   \n",
      "1           2        3.0  famili diner. buffet. eclect assortment: larg ...   \n",
      "2           8        3.0  easter instead go lopez lake went lo padr nati...   \n",
      "3           9        3.0  parti six hibachi. waitress brought separ sush...   \n",
      "4          21        3.0  upland breweri base bloomington, indiana becom...   \n",
      "...       ...        ...                                                ...   \n",
      "28615  251288        3.0  food alway good, howev custom servic whether p...   \n",
      "28616  251289        3.0  fav bad either. guy corner nightli special mar...   \n",
      "28617  251309        3.0  much like place depend look for. subjectively,...   \n",
      "28618  251314        3.0  order appet sampler. chees ball, wings, devil ...   \n",
      "28619  251329        3.0  use love shop macy's, howev last year seem tho...   \n",
      "\n",
      "      business_id stars  text  date  \n",
      "0            None  None  None  None  \n",
      "1            None  None  None  None  \n",
      "2            None  None  None  None  \n",
      "3            None  None  None  None  \n",
      "4            None  None  None  None  \n",
      "...           ...   ...   ...   ...  \n",
      "28615        None  None  None  None  \n",
      "28616        None  None  None  None  \n",
      "28617        None  None  None  None  \n",
      "28618        None  None  None  None  \n",
      "28619        None  None  None  None  \n",
      "\n",
      "[28620 rows x 7 columns]\n"
     ]
    }
   ],
   "source": [
    "\n",
    "#Run Second\n",
    "connection1 = sqlite3.connect('Trial.db')\n",
    "#Run Query\n",
    "resultsDF = pd.read_sql('Select * From Reviews Where review_id = 3', connection1)\n",
    "print(resultsDF)\n",
    "\n",
    "connection1.close()"
   ]
  }
 ],
 "metadata": {
  "kernelspec": {
   "display_name": "Python 3",
   "language": "python",
   "name": "python3"
  },
  "language_info": {
   "codemirror_mode": {
    "name": "ipython",
    "version": 3
   },
   "file_extension": ".py",
   "mimetype": "text/x-python",
   "name": "python",
   "nbconvert_exporter": "python",
   "pygments_lexer": "ipython3",
   "version": "3.11.1"
  }
 },
 "nbformat": 4,
 "nbformat_minor": 2
}
